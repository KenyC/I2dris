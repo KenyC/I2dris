{
 "cells": [
  {
   "cell_type": "code",
   "execution_count": 1,
   "metadata": {},
   "outputs": [
    {
     "name": "stdout",
     "output_type": "stream",
     "text": [
      "[(<CodeType.Declaration: 0>, \"Int'' : Type\\nInt'' = (a : Type) -> (a -> a) -> a -> a\")]:let\n",
      "Int'' : Type\n",
      "Int'' = (a : Type) -> (a -> a) -> a -> a(:protocol-version 1 0)\n",
      "(:output (:ok (:highlight-source ((((:filename (input)) (:start 2 9) (:end 2 12)) ((:decor :type) (:type Type) (:doc-overview The type of types) (:name Type)))))) 0)\n",
      "(:output (:ok (:highlight-source ((((:filename (input)) (:start 2 1) (:end 2 5)) ((:name Int'') (:implicit :False) (:key AAAAAAAAAAAFSW50Jyc=) (:decor :function) (:doc-overview ) (:type Type)))))) 0)\n",
      "(:output (:ok (:highlight-source ((((:filename (input)) (:start 3 1) (:end 3 5)) ((:name Int'') (:implicit :False) (:key AAAAAAAAAAAFSW50Jyc=) (:decor :function) (:doc-overview ) (:type Type)))))) 0)\n",
      "(:output (:ok (:highlight-source ((((:filename (input)) (:start 3 10) (:end 3 10)) ((:name a) (:decor :bound) (:implicit :False))) (((:filename (input)) (:start 3 14) (:end 3 17)) ((:decor :type) (:type Type) (:doc-overview The type of types) (:name Type))) (((:filename (input)) (:start 3 24) (:end 3 24)) ((:name a) (:decor :bound) (:implicit :False))) (((:filename (input)) (:start 3 29) (:end 3 29)) ((:name a) (:decor :bound) (:implicit :False))) (((:filename (input)) (:start 3 35) (:end 3 35)) ((:name a) (:decor :bound) (:implicit :False))) (((:filename (input)) (:start 3 40) (:end 3 40)) ((:name a) (:decor :bound) (:implicit :False)))))) 0)\n",
      "(:return (:ok defined) 0)\n",
      "\n",
      "defined"
     ]
    }
   ],
   "source": [
    "Int'' : Type\n",
    "Int'' = (a : Type) -> (a -> a) -> a -> a"
   ]
  },
  {
   "cell_type": "markdown",
   "metadata": {},
   "source": [
    "These are exactly Church's numerals:"
   ]
  },
  {
   "cell_type": "code",
   "execution_count": 3,
   "metadata": {},
   "outputs": [
    {
     "name": "stdout",
     "output_type": "stream",
     "text": [
      "[(<CodeType.Undeclare: 3>, 'zero'), (<CodeType.Undeclare: 3>, 'successor'), (<CodeType.Declaration: 0>, \"zero : Int''\\nzero a = const id\\n\\n\\nsuccessor : Int'' -> Int''\\nsuccessor n a f = f . (n a f)\")]:unlet zero : Int''\n",
      "zero a = const id\n",
      "\n",
      "\n",
      "successor : Int'' -> Int''\n",
      "successor n a f = f . (n a f)(:return (:ok Undefined zero. ((10 4 ((:name zero) (:implicit :False) (:key AAAAAAAAAAAEemVybw==))))) 0)\n",
      "\n",
      "Undefined zero.:unlet zero : Int''\n",
      "zero a = const id\n",
      "\n",
      "\n",
      "successor : Int'' -> Int''\n",
      "successor n a f = f . (n a f)(:return (:ok Undefined successor. ((10 9 ((:name successor) (:implicit :False) (:key AAAAAAAAAAAJc3VjY2Vzc29y))))) 0)\n",
      "\n",
      "Undefined successor.:let\n",
      "zero : Int''\n",
      "zero a = const id\n",
      "\n",
      "\n",
      "successor : Int'' -> Int''\n",
      "successor n a f = f . (n a f)(:output (:ok (:highlight-source ((((:filename (input)) (:start 2 8) (:end 2 12)) ((:name Int'') (:implicit :False) (:key AAAAAAAAAAAFSW50Jyc=) (:decor :function) (:doc-overview ) (:type Type)))))) 0)\n",
      "(:output (:ok (:highlight-source ((((:filename (input)) (:start 2 1) (:end 2 4)) ((:name zero) (:implicit :False) (:key AAAAAAAAAAAEemVybw==) (:decor :function) (:doc-overview ) (:type Int'')))))) 0)\n",
      "(:output (:ok (:highlight-source ((((:filename (input)) (:start 3 1) (:end 3 4)) ((:name zero) (:implicit :False) (:key AAAAAAAAAAAEemVybw==) (:decor :function) (:doc-overview ) (:type Int''))) (((:filename (input)) (:start 3 6) (:end 3 6)) ((:name a) (:decor :bound) (:implicit :False)))))) 0)\n",
      "(:output (:ok (:highlight-source ((((:filename (input)) (:start 3 10) (:end 3 14)) ((:name Prelude.Basics.const) (:implicit :False) (:key AQAAAAAAAAAABWNvbnN0AAAAAAAAAAIAAAAAAAAABkJhc2ljcwAAAAAAAAAHUHJlbHVkZQ==) (:decor :function) (:doc-overview Constant function. Ignores its second argument.) (:type a -> b -> a) (:namespace Prelude.Basics))) (((:filename (input)) (:start 3 16) (:end 3 17)) ((:name Prelude.Basics.id) (:implicit :False) (:key AQAAAAAAAAAAAmlkAAAAAAAAAAIAAAAAAAAABkJhc2ljcwAAAAAAAAAHUHJlbHVkZQ==) (:decor :function) (:doc-overview Identity function.) (:type a -> a) (:namespace Prelude.Basics)))))) 0)\n",
      "(:output (:ok (:highlight-source ((((:filename (input)) (:start 6 13) (:end 6 17)) ((:name Int'') (:implicit :False) (:key AAAAAAAAAAAFSW50Jyc=) (:decor :function) (:doc-overview ) (:type Type))) (((:filename (input)) (:start 6 22) (:end 6 26)) ((:name Int'') (:implicit :False) (:key AAAAAAAAAAAFSW50Jyc=) (:decor :function) (:doc-overview ) (:type Type)))))) 0)\n",
      "(:output (:ok (:highlight-source ((((:filename (input)) (:start 6 1) (:end 6 9)) ((:name successor) (:implicit :False) (:key AAAAAAAAAAAJc3VjY2Vzc29y) (:decor :function) (:doc-overview ) (:type Int'' -> Int'')))))) 0)\n",
      "(:output (:ok (:highlight-source ((((:filename (input)) (:start 7 1) (:end 7 9)) ((:name successor) (:implicit :False) (:key AAAAAAAAAAAJc3VjY2Vzc29y) (:decor :function) (:doc-overview ) (:type Int'' -> Int''))) (((:filename (input)) (:start 7 11) (:end 7 11)) ((:name n) (:decor :bound) (:implicit :False))) (((:filename (input)) (:start 7 13) (:end 7 13)) ((:name a) (:decor :bound) (:implicit :False))) (((:filename (input)) (:start 7 15) (:end 7 15)) ((:name f) (:decor :bound) (:implicit :False)))))) 0)\n",
      "(:output (:ok (:highlight-source ((((:filename (input)) (:start 7 19) (:end 7 19)) ((:name f) (:decor :bound) (:implicit :False))) (((:filename (input)) (:start 7 21) (:end 7 21)) ((:name Prelude.Basics..) (:implicit :False) (:key AQAAAAAAAAAAAS4AAAAAAAAAAgAAAAAAAAAGQmFzaWNzAAAAAAAAAAdQcmVsdWRl) (:decor :function) (:doc-overview Function composition) (:type (b -> c) -> (a -> b) -> a -> c) (:namespace Prelude.Basics))) (((:filename (input)) (:start 7 24) (:end 7 24)) ((:name n) (:decor :bound) (:implicit :False))) (((:filename (input)) (:start 7 26) (:end 7 26)) ((:name a) (:decor :bound) (:implicit :False))) (((:filename (input)) (:start 7 28) (:end 7 28)) ((:name f) (:decor :bound) (:implicit :False)))))) 0)\n",
      "(:return (:ok defined) 0)\n",
      "\n",
      "defined"
     ]
    }
   ],
   "source": [
    "zero : Int''\n",
    "zero a = const id\n",
    "\n",
    "\n",
    "successor : Int'' -> Int''\n",
    "successor n a f = f . (n a f)"
   ]
  },
  {
   "cell_type": "markdown",
   "metadata": {},
   "source": [
    "If need be, we can define a mapping from traditional numerals to this new type:"
   ]
  },
  {
   "cell_type": "code",
   "execution_count": 29,
   "metadata": {},
   "outputs": [
    {
     "name": "stdout",
     "output_type": "stream",
     "text": [
      "defined"
     ]
    }
   ],
   "source": [
    "to_int : Int'' -> Int\n",
    "to_int n = n Int (+1) 0 \n",
    "\n",
    "\n",
    "from_int : Int -> Int''\n",
    "from_int 0 = zero\n",
    "from_int n = successor (from_int (n - 1))"
   ]
  },
  {
   "cell_type": "code",
   "execution_count": 32,
   "metadata": {},
   "outputs": [
    {
     "name": "stdout",
     "output_type": "stream",
     "text": [
      "2 : Int"
     ]
    }
   ],
   "source": [
    "to_int $ successor $ successor zero"
   ]
  },
  {
   "cell_type": "markdown",
   "metadata": {},
   "source": [
    "Standard operations are definable with Church numerals:"
   ]
  },
  {
   "cell_type": "code",
   "execution_count": 35,
   "metadata": {},
   "outputs": [
    {
     "name": "stdout",
     "output_type": "stream",
     "text": [
      "defined"
     ]
    }
   ],
   "source": [
    "add : Int'' -> Int'' -> Int''\n",
    "add n m a f = (n a f) . (m a f)\n",
    "\n",
    "prod : Int'' -> Int'' -> Int''\n",
    "prod n m a = (n a) . (m a)\n",
    "\n",
    "exponent : Int'' -> Int'' -> Int''\n",
    "exponent m n a = n (a -> a)  $ m a"
   ]
  },
  {
   "cell_type": "markdown",
   "metadata": {},
   "source": [
    "Lazyness allows to define non-standard integers:"
   ]
  },
  {
   "cell_type": "code",
   "execution_count": 38,
   "metadata": {},
   "outputs": [
    {
     "name": "stdout",
     "output_type": "stream",
     "text": [
      "defined"
     ]
    }
   ],
   "source": [
    "omega : Int''\n",
    "omega a f x = f (omega a f x)"
   ]
  },
  {
   "cell_type": "markdown",
   "metadata": {},
   "source": [
    "## Coproduct"
   ]
  },
  {
   "cell_type": "code",
   "execution_count": 40,
   "metadata": {},
   "outputs": [
    {
     "name": "stdout",
     "output_type": "stream",
     "text": [
      "defined"
     ]
    }
   ],
   "source": [
    "Either'' : Type -> Type -> Type\n",
    "Either'' b c = (a : Type) -> (b -> a) -> (c -> a) -> a\n",
    "\n",
    "Left'' : b -> Either'' b c\n",
    "Left'' x = \\a => \\f => \\g => f x\n",
    "\n",
    "Right'' : c -> Either'' b c\n",
    "Right'' x = \\a => \\f => \\g => g x"
   ]
  },
  {
   "cell_type": "markdown",
   "metadata": {},
   "source": [
    "## Product"
   ]
  },
  {
   "cell_type": "code",
   "execution_count": 41,
   "metadata": {},
   "outputs": [
    {
     "name": "stdout",
     "output_type": "stream",
     "text": [
      "defined"
     ]
    }
   ],
   "source": [
    "Product'' : Type -> Type -> Type\n",
    "Product'' b c = (a : Type) -> (b -> c -> a) -> a\n",
    "\n",
    "MkProduct : b -> c -> Product'' b c\n",
    "MkProduct x y = \\a => \\f => f x y"
   ]
  },
  {
   "cell_type": "markdown",
   "metadata": {},
   "source": [
    "## Booleans"
   ]
  },
  {
   "cell_type": "code",
   "execution_count": 42,
   "metadata": {},
   "outputs": [
    {
     "name": "stdout",
     "output_type": "stream",
     "text": [
      "defined"
     ]
    }
   ],
   "source": [
    "Bool'' : Type\n",
    "Bool'' = (a : Type) -> a -> a -> a\n",
    "\n",
    "True'' : Bool''\n",
    "True'' a = \\x => \\y => x\n",
    "\n",
    "False'' : Bool''\n",
    "False'' a = \\x => \\y => y"
   ]
  },
  {
   "cell_type": "markdown",
   "metadata": {},
   "source": [
    "Natural operations"
   ]
  },
  {
   "cell_type": "code",
   "execution_count": 43,
   "metadata": {},
   "outputs": [
    {
     "name": "stdout",
     "output_type": "stream",
     "text": [
      "defined"
     ]
    }
   ],
   "source": [
    "not'' : Bool'' -> Bool''\n",
    "not'' f a = flip (f a)\n",
    "\n",
    "and'' : Bool'' -> Bool'' -> Bool''\n",
    "and'' b1 b2 a = (b1 (a -> a -> a)) (b2 a) (False'' a)\n",
    "\n",
    "or'' : Bool'' -> Bool'' -> Bool''\n",
    "or'' b1 b2 a = (b1 (a -> a -> a)) (True'' a) (b2 a)"
   ]
  },
  {
   "cell_type": "markdown",
   "metadata": {},
   "source": [
    "Isomorphism with traditional type"
   ]
  },
  {
   "cell_type": "code",
   "execution_count": 44,
   "metadata": {},
   "outputs": [
    {
     "name": "stdout",
     "output_type": "stream",
     "text": [
      "defined"
     ]
    }
   ],
   "source": [
    "to_bool : Bool'' -> Bool\n",
    "to_bool b = b Bool True False\n",
    "\n",
    "from_bool : Bool -> Bool''\n",
    "from_bool b a x y = if b then x else y"
   ]
  },
  {
   "cell_type": "code",
   "execution_count": 47,
   "metadata": {},
   "outputs": [
    {
     "name": "stdout",
     "output_type": "stream",
     "text": [
      "False : Bool"
     ]
    }
   ],
   "source": [
    "to_bool $  (not'' True'') `and''` False''"
   ]
  },
  {
   "cell_type": "markdown",
   "metadata": {},
   "source": [
    "## Unit"
   ]
  },
  {
   "cell_type": "code",
   "execution_count": 48,
   "metadata": {},
   "outputs": [
    {
     "name": "stdout",
     "output_type": "stream",
     "text": [
      "defined"
     ]
    }
   ],
   "source": [
    "Unit'' : Type\n",
    "Unit'' = (a : Type) -> a -> a \n",
    "\n",
    "unit : Unit''\n",
    "unit a = id "
   ]
  },
  {
   "cell_type": "code",
   "execution_count": null,
   "metadata": {},
   "outputs": [],
   "source": []
  }
 ],
 "metadata": {
  "kernelspec": {
   "display_name": "Idris",
   "language": "idris",
   "name": "i2dris"
  },
  "language_info": {
   "file_extension": "idr",
   "mimetype": "text/x-idris",
   "name": "idris"
  }
 },
 "nbformat": 4,
 "nbformat_minor": 4
}
