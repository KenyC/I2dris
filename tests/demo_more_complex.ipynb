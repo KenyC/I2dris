{
 "cells": [
  {
   "cell_type": "code",
   "execution_count": 1,
   "metadata": {},
   "outputs": [
    {
     "name": "stdout",
     "output_type": "stream",
     "text": [
      "defined"
     ]
    }
   ],
   "source": [
    "Int'' : Type\n",
    "Int'' = (a : Type) -> (a -> a) -> a -> a"
   ]
  },
  {
   "cell_type": "markdown",
   "metadata": {},
   "source": [
    "These are exactly Church's numerals:"
   ]
  },
  {
   "cell_type": "code",
   "execution_count": 28,
   "metadata": {},
   "outputs": [
    {
     "name": "stdout",
     "output_type": "stream",
     "text": [
      "defined"
     ]
    }
   ],
   "source": [
    "zero : Int''\n",
    "zero a = const id\n",
    "\n",
    "\n",
    "successor : Int'' -> Int''\n",
    "successor n a f = f . (n a f)"
   ]
  },
  {
   "cell_type": "markdown",
   "metadata": {},
   "source": [
    "If need be, we can define a mapping from traditional numerals to this new type:"
   ]
  },
  {
   "cell_type": "code",
   "execution_count": 29,
   "metadata": {},
   "outputs": [
    {
     "name": "stdout",
     "output_type": "stream",
     "text": [
      "defined"
     ]
    }
   ],
   "source": [
    "to_int : Int'' -> Int\n",
    "to_int n = n Int (+1) 0 \n",
    "\n",
    "\n",
    "from_int : Int -> Int''\n",
    "from_int 0 = zero\n",
    "from_int n = successor (from_int (n - 1))"
   ]
  },
  {
   "cell_type": "code",
   "execution_count": 32,
   "metadata": {},
   "outputs": [
    {
     "name": "stdout",
     "output_type": "stream",
     "text": [
      "2 : Int"
     ]
    }
   ],
   "source": [
    "to_int $ successor $ successor zero"
   ]
  },
  {
   "cell_type": "markdown",
   "metadata": {},
   "source": [
    "Standard operations are definable with Church numerals:"
   ]
  },
  {
   "cell_type": "code",
   "execution_count": 35,
   "metadata": {},
   "outputs": [
    {
     "name": "stdout",
     "output_type": "stream",
     "text": [
      "defined"
     ]
    }
   ],
   "source": [
    "add : Int'' -> Int'' -> Int''\n",
    "add n m a f = (n a f) . (m a f)\n",
    "\n",
    "prod : Int'' -> Int'' -> Int''\n",
    "prod n m a = (n a) . (m a)\n",
    "\n",
    "exponent : Int'' -> Int'' -> Int''\n",
    "exponent m n a = n (a -> a)  $ m a"
   ]
  },
  {
   "cell_type": "markdown",
   "metadata": {},
   "source": [
    "Lazyness allows to define non-standard integers:"
   ]
  },
  {
   "cell_type": "code",
   "execution_count": 38,
   "metadata": {},
   "outputs": [
    {
     "name": "stdout",
     "output_type": "stream",
     "text": [
      "defined"
     ]
    }
   ],
   "source": [
    "omega : Int''\n",
    "omega a f x = f (omega a f x)"
   ]
  },
  {
   "cell_type": "markdown",
   "metadata": {},
   "source": [
    "## Coproduct"
   ]
  },
  {
   "cell_type": "code",
   "execution_count": 40,
   "metadata": {},
   "outputs": [
    {
     "name": "stdout",
     "output_type": "stream",
     "text": [
      "defined"
     ]
    }
   ],
   "source": [
    "Either'' : Type -> Type -> Type\n",
    "Either'' b c = (a : Type) -> (b -> a) -> (c -> a) -> a\n",
    "\n",
    "Left'' : b -> Either'' b c\n",
    "Left'' x = \\a => \\f => \\g => f x\n",
    "\n",
    "Right'' : c -> Either'' b c\n",
    "Right'' x = \\a => \\f => \\g => g x"
   ]
  },
  {
   "cell_type": "markdown",
   "metadata": {},
   "source": [
    "## Product"
   ]
  },
  {
   "cell_type": "code",
   "execution_count": 41,
   "metadata": {},
   "outputs": [
    {
     "name": "stdout",
     "output_type": "stream",
     "text": [
      "defined"
     ]
    }
   ],
   "source": [
    "Product'' : Type -> Type -> Type\n",
    "Product'' b c = (a : Type) -> (b -> c -> a) -> a\n",
    "\n",
    "MkProduct : b -> c -> Product'' b c\n",
    "MkProduct x y = \\a => \\f => f x y"
   ]
  },
  {
   "cell_type": "markdown",
   "metadata": {},
   "source": [
    "## Booleans"
   ]
  },
  {
   "cell_type": "code",
   "execution_count": 42,
   "metadata": {},
   "outputs": [
    {
     "name": "stdout",
     "output_type": "stream",
     "text": [
      "defined"
     ]
    }
   ],
   "source": [
    "Bool'' : Type\n",
    "Bool'' = (a : Type) -> a -> a -> a\n",
    "\n",
    "True'' : Bool''\n",
    "True'' a = \\x => \\y => x\n",
    "\n",
    "False'' : Bool''\n",
    "False'' a = \\x => \\y => y"
   ]
  },
  {
   "cell_type": "markdown",
   "metadata": {},
   "source": [
    "Natural operations"
   ]
  },
  {
   "cell_type": "code",
   "execution_count": 43,
   "metadata": {},
   "outputs": [
    {
     "name": "stdout",
     "output_type": "stream",
     "text": [
      "defined"
     ]
    }
   ],
   "source": [
    "not'' : Bool'' -> Bool''\n",
    "not'' f a = flip (f a)\n",
    "\n",
    "and'' : Bool'' -> Bool'' -> Bool''\n",
    "and'' b1 b2 a = (b1 (a -> a -> a)) (b2 a) (False'' a)\n",
    "\n",
    "or'' : Bool'' -> Bool'' -> Bool''\n",
    "or'' b1 b2 a = (b1 (a -> a -> a)) (True'' a) (b2 a)"
   ]
  },
  {
   "cell_type": "markdown",
   "metadata": {},
   "source": [
    "Isomorphism with traditional type"
   ]
  },
  {
   "cell_type": "code",
   "execution_count": 44,
   "metadata": {},
   "outputs": [
    {
     "name": "stdout",
     "output_type": "stream",
     "text": [
      "defined"
     ]
    }
   ],
   "source": [
    "to_bool : Bool'' -> Bool\n",
    "to_bool b = b Bool True False\n",
    "\n",
    "from_bool : Bool -> Bool''\n",
    "from_bool b a x y = if b then x else y"
   ]
  },
  {
   "cell_type": "code",
   "execution_count": 47,
   "metadata": {},
   "outputs": [
    {
     "name": "stdout",
     "output_type": "stream",
     "text": [
      "False : Bool"
     ]
    }
   ],
   "source": [
    "to_bool $  (not'' True'') `and''` False''"
   ]
  },
  {
   "cell_type": "markdown",
   "metadata": {},
   "source": [
    "## Unit"
   ]
  },
  {
   "cell_type": "code",
   "execution_count": 48,
   "metadata": {},
   "outputs": [
    {
     "name": "stdout",
     "output_type": "stream",
     "text": [
      "defined"
     ]
    }
   ],
   "source": [
    "Unit'' : Type\n",
    "Unit'' = (a : Type) -> a -> a \n",
    "\n",
    "unit : Unit''\n",
    "unit a = id "
   ]
  },
  {
   "cell_type": "code",
   "execution_count": null,
   "metadata": {},
   "outputs": [],
   "source": []
  }
 ],
 "metadata": {
  "kernelspec": {
   "display_name": "Idris",
   "language": "idris",
   "name": "i2dris"
  },
  "language_info": {
   "file_extension": "idr",
   "mimetype": "text/x-idris",
   "name": "idris"
  }
 },
 "nbformat": 4,
 "nbformat_minor": 4
}
