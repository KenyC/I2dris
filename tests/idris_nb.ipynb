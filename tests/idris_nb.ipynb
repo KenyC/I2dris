{
 "cells": [
  {
   "cell_type": "code",
   "execution_count": 1,
   "metadata": {},
   "outputs": [
    {
     "name": "stdout",
     "output_type": "stream",
     "text": [
      "defined"
     ]
    }
   ],
   "source": [
    "a : Bool\n",
    "a = True"
   ]
  },
  {
   "cell_type": "code",
   "execution_count": 2,
   "metadata": {},
   "outputs": [
    {
     "name": "stdout",
     "output_type": "stream",
     "text": [
      "False : Bool"
     ]
    }
   ],
   "source": [
    "not a"
   ]
  },
  {
   "cell_type": "code",
   "execution_count": 3,
   "metadata": {},
   "outputs": [
    {
     "name": "stdout",
     "output_type": "stream",
     "text": [
      "defined"
     ]
    }
   ],
   "source": [
    "c : Bool -> Bool\n",
    "\n",
    "c True = False\n",
    "c False = True"
   ]
  },
  {
   "cell_type": "code",
   "execution_count": 4,
   "metadata": {},
   "outputs": [
    {
     "name": "stdout",
     "output_type": "stream",
     "text": [
      "False : Bool"
     ]
    }
   ],
   "source": [
    "c a"
   ]
  },
  {
   "cell_type": "code",
   "execution_count": 7,
   "metadata": {},
   "outputs": [
    {
     "name": "stdout",
     "output_type": "stream",
     "text": [
      "defined"
     ]
    }
   ],
   "source": [
    "d = c a"
   ]
  },
  {
   "cell_type": "code",
   "execution_count": 8,
   "metadata": {},
   "outputs": [
    {
     "name": "stdout",
     "output_type": "stream",
     "text": [
      "False : Bool"
     ]
    }
   ],
   "source": [
    "d"
   ]
  },
  {
   "cell_type": "code",
   "execution_count": 9,
   "metadata": {},
   "outputs": [
    {
     "name": "stdout",
     "output_type": "stream",
     "text": [
      "Undefined d."
     ]
    }
   ],
   "source": [
    ":unlet d"
   ]
  },
  {
   "cell_type": "code",
   "execution_count": null,
   "metadata": {},
   "outputs": [],
   "source": []
  }
 ],
 "metadata": {
  "kernelspec": {
   "display_name": "I2dris",
   "language": "idris",
   "name": "jupidris"
  },
  "language_info": {
   "file_extension": "idr",
   "mimetype": "text/x-idris",
   "name": "idris",
   "pygments_lexer": "IdrisLexer"
  }
 },
 "nbformat": 4,
 "nbformat_minor": 4
}
